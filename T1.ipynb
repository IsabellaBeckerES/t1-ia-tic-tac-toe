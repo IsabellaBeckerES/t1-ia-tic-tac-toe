{
  "cells": [
    {
      "cell_type": "markdown",
      "metadata": {
        "id": "dFmU6nLgpEO5"
      },
      "source": [
        "## Trabalho 1 - Inteligência Artificial\n",
        "\n",
        "> Grupo: Isabella Leal Becker e Leticia Brasil Flores\n",
        "\n",
        "\n",
        "\n",
        "\n",
        "O objetivo do trabalho é implementar uma solução para o jogo da velha tendo como base o dataset tic-tac-toe, sendo utilizado 3 algoritmos de IA diferentes visando obter um comparativo. Neste notebook é apresentada uma analise do dataset, a implementação de cada algoritmo  utilizando bibliotecas de ML, e apresentação de um Front End para utilização e permitir simulações.\n",
        "\n",
        "- O pré processamento do dataset original foi realizado em: https://github.com/IsabellaBeckerES/t1-ia-tic-tac-toe\n",
        "\n",
        "- Relatório disponível em: https://pt.overleaf.com/read/bjxkshpbfsqx\n",
        "\n",
        "\n",
        "\n",
        "\n",
        "\n"
      ]
    },
    {
      "cell_type": "markdown",
      "metadata": {
        "id": "B_ihNPAI_2zS"
      },
      "source": [
        "# Dataset"
      ]
    },
    {
      "cell_type": "code",
      "execution_count": null,
      "metadata": {
        "id": "kH0zeGrcPvsF"
      },
      "outputs": [],
      "source": [
        "import pandas as pd\n",
        "from sklearn import neighbors\n",
        "from sklearn.model_selection import train_test_split\n"
      ]
    },
    {
      "cell_type": "code",
      "execution_count": null,
      "metadata": {
        "colab": {
          "base_uri": "https://localhost:8080/"
        },
        "id": "GeV3OVK3pJJX",
        "outputId": "626293b1-39d2-41a4-e783-7a2dc6bc53b3"
      },
      "outputs": [
        {
          "data": {
            "text/plain": [
              "(1806, 10)"
            ]
          },
          "execution_count": 4,
          "metadata": {},
          "output_type": "execute_result"
        }
      ],
      "source": [
        "data = pd.read_csv('datasetv5.csv' , sep=\";\")\n",
        "data.shape"
      ]
    },
    {
      "cell_type": "code",
      "execution_count": null,
      "metadata": {
        "colab": {
          "base_uri": "https://localhost:8080/"
        },
        "id": "I7WPReQhtTFw",
        "outputId": "e0e0a772-dc1f-412c-b5ba-c3ff67551a02"
      },
      "outputs": [
        {
          "name": "stdout",
          "output_type": "stream",
          "text": [
            "     L1C1 L1C2 L1C3 L2C1 L2C2 L2C3 L3C1 L3C2 L3C3 RESULTADO\n",
            "0       x    x    x    x    o    o    x    o    o    ganhou\n",
            "1       x    x    x    x    o    o    o    x    o    ganhou\n",
            "2       x    x    x    x    o    o    o    o    x    ganhou\n",
            "3       x    x    x    x    o    o    o    b    b    ganhou\n",
            "4       x    x    x    x    o    o    b    o    b    ganhou\n",
            "...   ...  ...  ...  ...  ...  ...  ...  ...  ...       ...\n",
            "1801    b    b    b    x    o    b    b    b    b   jogando\n",
            "1802    b    b    b    x    b    o    b    b    b   jogando\n",
            "1803    b    b    b    x    b    b    o    b    b   jogando\n",
            "1804    b    b    b    x    b    b    b    o    b   jogando\n",
            "1805    b    b    b    x    b    b    b    b    o   jogando\n",
            "\n",
            "[1806 rows x 10 columns]\n"
          ]
        }
      ],
      "source": [
        "print(data)\n"
      ]
    },
    {
      "cell_type": "code",
      "execution_count": null,
      "metadata": {
        "colab": {
          "base_uri": "https://localhost:8080/"
        },
        "id": "n15rGFKGt0SQ",
        "outputId": "e9bd144a-0608-42e4-e49a-1fb88609b026"
      },
      "outputs": [
        {
          "name": "stdout",
          "output_type": "stream",
          "text": [
            "  RESULTADO  Contagem\n",
            "0    empate        32\n",
            "1    ganhou       942\n",
            "2   jogando       832\n"
          ]
        }
      ],
      "source": [
        "# Quantidade de resultados positicos e negativo:\n",
        "contagem_resultados = data.groupby(\"RESULTADO\").size().reset_index(name='Contagem')\n",
        "\n",
        "print(contagem_resultados)"
      ]
    },
    {
      "cell_type": "code",
      "execution_count": null,
      "metadata": {
        "id": "GBtKL-d0p39q"
      },
      "outputs": [],
      "source": [
        "# 2º Trabnsformação das letras  'x', 'o' e 'b'  e dos resultados 'empate', 'ganhou' e 'jogando' em números.\n",
        "# sendo 'x', 'o', 'b' =  1, -1, 0 e empate, ganhou e jogando em 0, 1, -1\n",
        "\n",
        "data.replace({'x': 1, 'o': -1, 'b': 0, 'empate': 0, 'ganhou': 1, 'jogando': -1}, inplace=True)"
      ]
    },
    {
      "cell_type": "code",
      "execution_count": null,
      "metadata": {
        "id": "9WIqBTEVqERX"
      },
      "outputs": [],
      "source": [
        "# Separar dados de entrada (X) da classe resultado (y)\n",
        "x = data.drop(columns=['RESULTADO'])\n",
        "y = data['RESULTADO']"
      ]
    },
    {
      "cell_type": "code",
      "execution_count": null,
      "metadata": {
        "id": "p1p9vl18qGjW"
      },
      "outputs": [],
      "source": [
        "# Dividir em conjunto de treino e teste (80% treino, 20% teste)\n",
        "X_train, X_test, y_train, y_test = train_test_split(x, y, test_size=0.2, random_state=42)"
      ]
    },
    {
      "cell_type": "code",
      "execution_count": null,
      "metadata": {
        "colab": {
          "base_uri": "https://localhost:8080/"
        },
        "id": "a5t14CEDrj_C",
        "outputId": "e513c824-210f-4de0-96de-d9e1d2ce780f"
      },
      "outputs": [
        {
          "name": "stdout",
          "output_type": "stream",
          "text": [
            "      L1C1  L1C2  L1C3  L2C1  L2C2  L2C3  L3C1  L3C2  L3C3\n",
            "900      0     1    -1     1     0    -1     1     0    -1\n",
            "1798    -1     0     0     1     0     0     0     0     0\n",
            "1128     1     0     0     0     0    -1     0     0     1\n",
            "964     -1     1    -1     1    -1    -1     1    -1     1\n",
            "394     -1    -1     1     0     1     1    -1     0     1\n",
            "900     1\n",
            "1798   -1\n",
            "1128   -1\n",
            "964     0\n",
            "394     1\n",
            "Name: RESULTADO, dtype: int64\n"
          ]
        }
      ],
      "source": [
        "# Conserindo os primeiros dados do conjunto de treino\n",
        "print(X_train.head())\n",
        "print(y_train.head())"
      ]
    },
    {
      "cell_type": "code",
      "execution_count": null,
      "metadata": {
        "colab": {
          "base_uri": "https://localhost:8080/"
        },
        "id": "sGZLAXgpr1XV",
        "outputId": "397e7a06-9279-410e-b800-045bcc0880a2"
      },
      "outputs": [
        {
          "name": "stdout",
          "output_type": "stream",
          "text": [
            "      L1C1  L1C2  L1C3  L2C1  L2C2  L2C3  L3C1  L3C2  L3C3\n",
            "1368     1    -1     0     1     0    -1    -1     0     1\n",
            "65       1     1     1     0    -1     0    -1    -1     1\n",
            "700      1    -1     0     1    -1     0     0    -1     1\n",
            "938      0     0    -1     1    -1     0    -1     1     1\n",
            "1621     1     0     1     0     0    -1     1     0    -1\n",
            "1368   -1\n",
            "65      1\n",
            "700     1\n",
            "938     1\n",
            "1621   -1\n",
            "Name: RESULTADO, dtype: int64\n"
          ]
        }
      ],
      "source": [
        "# Conferindo os primeiros dados do conjunto de treino\n",
        "print(X_test.head())\n",
        "print(y_test.head())"
      ]
    },
    {
      "cell_type": "markdown",
      "metadata": {
        "id": "VJ91wiAjskMo"
      },
      "source": [
        "Após o pré processamento, iremos usar os algoritmos k-NN, Árvores de decisão e um bayesiano, para fazer a etapa de aprendizado. A implementação desses algoritmos será feita usando como suporte a biblioteca scikit-learn."
      ]
    },
    {
      "cell_type": "markdown",
      "metadata": {
        "id": "pagwJJ7ptvuz"
      },
      "source": [
        "# 1º Algoritmo K-NN"
      ]
    },
    {
      "cell_type": "code",
      "execution_count": null,
      "metadata": {
        "colab": {
          "base_uri": "https://localhost:8080/",
          "height": 75
        },
        "id": "hJ9TI2PytKFv",
        "outputId": "609854f7-6dc2-4057-ccce-4245d06a46d7"
      },
      "outputs": [
        {
          "data": {
            "text/html": [
              "<style>#sk-container-id-3 {color: black;background-color: white;}#sk-container-id-3 pre{padding: 0;}#sk-container-id-3 div.sk-toggleable {background-color: white;}#sk-container-id-3 label.sk-toggleable__label {cursor: pointer;display: block;width: 100%;margin-bottom: 0;padding: 0.3em;box-sizing: border-box;text-align: center;}#sk-container-id-3 label.sk-toggleable__label-arrow:before {content: \"▸\";float: left;margin-right: 0.25em;color: #696969;}#sk-container-id-3 label.sk-toggleable__label-arrow:hover:before {color: black;}#sk-container-id-3 div.sk-estimator:hover label.sk-toggleable__label-arrow:before {color: black;}#sk-container-id-3 div.sk-toggleable__content {max-height: 0;max-width: 0;overflow: hidden;text-align: left;background-color: #f0f8ff;}#sk-container-id-3 div.sk-toggleable__content pre {margin: 0.2em;color: black;border-radius: 0.25em;background-color: #f0f8ff;}#sk-container-id-3 input.sk-toggleable__control:checked~div.sk-toggleable__content {max-height: 200px;max-width: 100%;overflow: auto;}#sk-container-id-3 input.sk-toggleable__control:checked~label.sk-toggleable__label-arrow:before {content: \"▾\";}#sk-container-id-3 div.sk-estimator input.sk-toggleable__control:checked~label.sk-toggleable__label {background-color: #d4ebff;}#sk-container-id-3 div.sk-label input.sk-toggleable__control:checked~label.sk-toggleable__label {background-color: #d4ebff;}#sk-container-id-3 input.sk-hidden--visually {border: 0;clip: rect(1px 1px 1px 1px);clip: rect(1px, 1px, 1px, 1px);height: 1px;margin: -1px;overflow: hidden;padding: 0;position: absolute;width: 1px;}#sk-container-id-3 div.sk-estimator {font-family: monospace;background-color: #f0f8ff;border: 1px dotted black;border-radius: 0.25em;box-sizing: border-box;margin-bottom: 0.5em;}#sk-container-id-3 div.sk-estimator:hover {background-color: #d4ebff;}#sk-container-id-3 div.sk-parallel-item::after {content: \"\";width: 100%;border-bottom: 1px solid gray;flex-grow: 1;}#sk-container-id-3 div.sk-label:hover label.sk-toggleable__label {background-color: #d4ebff;}#sk-container-id-3 div.sk-serial::before {content: \"\";position: absolute;border-left: 1px solid gray;box-sizing: border-box;top: 0;bottom: 0;left: 50%;z-index: 0;}#sk-container-id-3 div.sk-serial {display: flex;flex-direction: column;align-items: center;background-color: white;padding-right: 0.2em;padding-left: 0.2em;position: relative;}#sk-container-id-3 div.sk-item {position: relative;z-index: 1;}#sk-container-id-3 div.sk-parallel {display: flex;align-items: stretch;justify-content: center;background-color: white;position: relative;}#sk-container-id-3 div.sk-item::before, #sk-container-id-3 div.sk-parallel-item::before {content: \"\";position: absolute;border-left: 1px solid gray;box-sizing: border-box;top: 0;bottom: 0;left: 50%;z-index: -1;}#sk-container-id-3 div.sk-parallel-item {display: flex;flex-direction: column;z-index: 1;position: relative;background-color: white;}#sk-container-id-3 div.sk-parallel-item:first-child::after {align-self: flex-end;width: 50%;}#sk-container-id-3 div.sk-parallel-item:last-child::after {align-self: flex-start;width: 50%;}#sk-container-id-3 div.sk-parallel-item:only-child::after {width: 0;}#sk-container-id-3 div.sk-dashed-wrapped {border: 1px dashed gray;margin: 0 0.4em 0.5em 0.4em;box-sizing: border-box;padding-bottom: 0.4em;background-color: white;}#sk-container-id-3 div.sk-label label {font-family: monospace;font-weight: bold;display: inline-block;line-height: 1.2em;}#sk-container-id-3 div.sk-label-container {text-align: center;}#sk-container-id-3 div.sk-container {/* jupyter's `normalize.less` sets `[hidden] { display: none; }` but bootstrap.min.css set `[hidden] { display: none !important; }` so we also need the `!important` here to be able to override the default hidden behavior on the sphinx rendered scikit-learn.org. See: https://github.com/scikit-learn/scikit-learn/issues/21755 */display: inline-block !important;position: relative;}#sk-container-id-3 div.sk-text-repr-fallback {display: none;}</style><div id=\"sk-container-id-3\" class=\"sk-top-container\"><div class=\"sk-text-repr-fallback\"><pre>KNeighborsClassifier(n_neighbors=2)</pre><b>In a Jupyter environment, please rerun this cell to show the HTML representation or trust the notebook. <br />On GitHub, the HTML representation is unable to render, please try loading this page with nbviewer.org.</b></div><div class=\"sk-container\" hidden><div class=\"sk-item\"><div class=\"sk-estimator sk-toggleable\"><input class=\"sk-toggleable__control sk-hidden--visually\" id=\"sk-estimator-id-3\" type=\"checkbox\" checked><label for=\"sk-estimator-id-3\" class=\"sk-toggleable__label sk-toggleable__label-arrow\">KNeighborsClassifier</label><div class=\"sk-toggleable__content\"><pre>KNeighborsClassifier(n_neighbors=2)</pre></div></div></div></div></div>"
            ],
            "text/plain": [
              "KNeighborsClassifier(n_neighbors=2)"
            ]
          },
          "execution_count": 19,
          "metadata": {},
          "output_type": "execute_result"
        }
      ],
      "source": [
        "#import da biblioteca\n",
        "from sklearn.neighbors import KNeighborsClassifier\n",
        "from sklearn.metrics import accuracy_score\n",
        "\n",
        "knn_clf = KNeighborsClassifier(n_neighbors=2)\n",
        "\n",
        "#Treino\n",
        "knn_clf.fit(X_train, y_train)"
      ]
    },
    {
      "cell_type": "markdown",
      "metadata": {
        "id": "wnV9rPvMu1VX"
      },
      "source": [
        "Para utilizar o algoritmo K-NN foi passado como parâmetro o número de vizinhos 3. Assim o algoritmo irá considerar as 3 amostras mais próximas para prever os resultados."
      ]
    },
    {
      "cell_type": "code",
      "execution_count": null,
      "metadata": {
        "id": "AWbSuAHUDX2J"
      },
      "outputs": [],
      "source": [
        "# Fazer previsões nos dados de teste\n",
        "Knn_predicao = knn_clf.predict(X_test)"
      ]
    },
    {
      "cell_type": "code",
      "execution_count": null,
      "metadata": {
        "colab": {
          "base_uri": "https://localhost:8080/"
        },
        "id": "s8mU0oJyu1CE",
        "outputId": "f8f8970c-076c-424e-c939-51c4119cd222"
      },
      "outputs": [
        {
          "name": "stdout",
          "output_type": "stream",
          "text": [
            "Predição dos testes:\n",
            "\n",
            "Exemplo: 0\n",
            "L1C1    1\n",
            "L1C2   -1\n",
            "L1C3    0\n",
            "L2C1    1\n",
            "L2C2    0\n",
            "L2C3   -1\n",
            "L3C1   -1\n",
            "L3C2    0\n",
            "L3C3    1\n",
            "Name: 1368, dtype: int64\n",
            "Predição:  -1\n",
            "\n",
            "Exemplo: 1\n",
            "L1C1    1\n",
            "L1C2    1\n",
            "L1C3    1\n",
            "L2C1    0\n",
            "L2C2   -1\n",
            "L2C3    0\n",
            "L3C1   -1\n",
            "L3C2   -1\n",
            "L3C3    1\n",
            "Name: 65, dtype: int64\n",
            "Predição:  1\n",
            "\n",
            "Exemplo: 2\n",
            "L1C1    1\n",
            "L1C2   -1\n",
            "L1C3    0\n",
            "L2C1    1\n",
            "L2C2   -1\n",
            "L2C3    0\n",
            "L3C1    0\n",
            "L3C2   -1\n",
            "L3C3    1\n",
            "Name: 700, dtype: int64\n",
            "Predição:  -1\n",
            "\n",
            "Exemplo: 3\n",
            "L1C1    0\n",
            "L1C2    0\n",
            "L1C3   -1\n",
            "L2C1    1\n",
            "L2C2   -1\n",
            "L2C3    0\n",
            "L3C1   -1\n",
            "L3C2    1\n",
            "L3C3    1\n",
            "Name: 938, dtype: int64\n",
            "Predição:  -1\n",
            "\n",
            "Exemplo: 4\n",
            "L1C1    1\n",
            "L1C2    0\n",
            "L1C3    1\n",
            "L2C1    0\n",
            "L2C2    0\n",
            "L2C3   -1\n",
            "L3C1    1\n",
            "L3C2    0\n",
            "L3C3   -1\n",
            "Name: 1621, dtype: int64\n",
            "Predição:  -1\n"
          ]
        }
      ],
      "source": [
        "#conferindo os 5 primeiros\n",
        "print(\"Predição dos testes:\")\n",
        "for i in range (5):\n",
        "  print (\"\\nExemplo:\", i)\n",
        "  print (X_test.iloc[i])\n",
        "  print(\"Predição: \", Knn_predicao[i])\n"
      ]
    },
    {
      "cell_type": "code",
      "execution_count": null,
      "metadata": {
        "colab": {
          "base_uri": "https://localhost:8080/"
        },
        "id": "lHh4dZURDppp",
        "outputId": "8635071a-d752-49ce-d47a-9147e0677199"
      },
      "outputs": [
        {
          "name": "stdout",
          "output_type": "stream",
          "text": [
            "Acurácia do k-NN: 0.74\n"
          ]
        }
      ],
      "source": [
        "# Avaliar a acurácia do K-nn\n",
        "knn_accuracia = accuracy_score(y_test, Knn_predicao)\n",
        "print(\"Acurácia do k-NN: {:.2f}\".format(knn_accuracia))"
      ]
    },
    {
      "cell_type": "markdown",
      "metadata": {
        "id": "XK2Cho796399"
      },
      "source": [
        "# 2º Algoritmo Árvore de Decisão"
      ]
    },
    {
      "cell_type": "code",
      "execution_count": null,
      "metadata": {
        "colab": {
          "base_uri": "https://localhost:8080/",
          "height": 75
        },
        "id": "C0XgON0Y7MJQ",
        "outputId": "6de91949-a8fe-4dcf-f6ad-b43e269c02fc"
      },
      "outputs": [
        {
          "data": {
            "text/html": [
              "<style>#sk-container-id-1 {color: black;background-color: white;}#sk-container-id-1 pre{padding: 0;}#sk-container-id-1 div.sk-toggleable {background-color: white;}#sk-container-id-1 label.sk-toggleable__label {cursor: pointer;display: block;width: 100%;margin-bottom: 0;padding: 0.3em;box-sizing: border-box;text-align: center;}#sk-container-id-1 label.sk-toggleable__label-arrow:before {content: \"▸\";float: left;margin-right: 0.25em;color: #696969;}#sk-container-id-1 label.sk-toggleable__label-arrow:hover:before {color: black;}#sk-container-id-1 div.sk-estimator:hover label.sk-toggleable__label-arrow:before {color: black;}#sk-container-id-1 div.sk-toggleable__content {max-height: 0;max-width: 0;overflow: hidden;text-align: left;background-color: #f0f8ff;}#sk-container-id-1 div.sk-toggleable__content pre {margin: 0.2em;color: black;border-radius: 0.25em;background-color: #f0f8ff;}#sk-container-id-1 input.sk-toggleable__control:checked~div.sk-toggleable__content {max-height: 200px;max-width: 100%;overflow: auto;}#sk-container-id-1 input.sk-toggleable__control:checked~label.sk-toggleable__label-arrow:before {content: \"▾\";}#sk-container-id-1 div.sk-estimator input.sk-toggleable__control:checked~label.sk-toggleable__label {background-color: #d4ebff;}#sk-container-id-1 div.sk-label input.sk-toggleable__control:checked~label.sk-toggleable__label {background-color: #d4ebff;}#sk-container-id-1 input.sk-hidden--visually {border: 0;clip: rect(1px 1px 1px 1px);clip: rect(1px, 1px, 1px, 1px);height: 1px;margin: -1px;overflow: hidden;padding: 0;position: absolute;width: 1px;}#sk-container-id-1 div.sk-estimator {font-family: monospace;background-color: #f0f8ff;border: 1px dotted black;border-radius: 0.25em;box-sizing: border-box;margin-bottom: 0.5em;}#sk-container-id-1 div.sk-estimator:hover {background-color: #d4ebff;}#sk-container-id-1 div.sk-parallel-item::after {content: \"\";width: 100%;border-bottom: 1px solid gray;flex-grow: 1;}#sk-container-id-1 div.sk-label:hover label.sk-toggleable__label {background-color: #d4ebff;}#sk-container-id-1 div.sk-serial::before {content: \"\";position: absolute;border-left: 1px solid gray;box-sizing: border-box;top: 0;bottom: 0;left: 50%;z-index: 0;}#sk-container-id-1 div.sk-serial {display: flex;flex-direction: column;align-items: center;background-color: white;padding-right: 0.2em;padding-left: 0.2em;position: relative;}#sk-container-id-1 div.sk-item {position: relative;z-index: 1;}#sk-container-id-1 div.sk-parallel {display: flex;align-items: stretch;justify-content: center;background-color: white;position: relative;}#sk-container-id-1 div.sk-item::before, #sk-container-id-1 div.sk-parallel-item::before {content: \"\";position: absolute;border-left: 1px solid gray;box-sizing: border-box;top: 0;bottom: 0;left: 50%;z-index: -1;}#sk-container-id-1 div.sk-parallel-item {display: flex;flex-direction: column;z-index: 1;position: relative;background-color: white;}#sk-container-id-1 div.sk-parallel-item:first-child::after {align-self: flex-end;width: 50%;}#sk-container-id-1 div.sk-parallel-item:last-child::after {align-self: flex-start;width: 50%;}#sk-container-id-1 div.sk-parallel-item:only-child::after {width: 0;}#sk-container-id-1 div.sk-dashed-wrapped {border: 1px dashed gray;margin: 0 0.4em 0.5em 0.4em;box-sizing: border-box;padding-bottom: 0.4em;background-color: white;}#sk-container-id-1 div.sk-label label {font-family: monospace;font-weight: bold;display: inline-block;line-height: 1.2em;}#sk-container-id-1 div.sk-label-container {text-align: center;}#sk-container-id-1 div.sk-container {/* jupyter's `normalize.less` sets `[hidden] { display: none; }` but bootstrap.min.css set `[hidden] { display: none !important; }` so we also need the `!important` here to be able to override the default hidden behavior on the sphinx rendered scikit-learn.org. See: https://github.com/scikit-learn/scikit-learn/issues/21755 */display: inline-block !important;position: relative;}#sk-container-id-1 div.sk-text-repr-fallback {display: none;}</style><div id=\"sk-container-id-1\" class=\"sk-top-container\"><div class=\"sk-text-repr-fallback\"><pre>DecisionTreeClassifier()</pre><b>In a Jupyter environment, please rerun this cell to show the HTML representation or trust the notebook. <br />On GitHub, the HTML representation is unable to render, please try loading this page with nbviewer.org.</b></div><div class=\"sk-container\" hidden><div class=\"sk-item\"><div class=\"sk-estimator sk-toggleable\"><input class=\"sk-toggleable__control sk-hidden--visually\" id=\"sk-estimator-id-1\" type=\"checkbox\" checked><label for=\"sk-estimator-id-1\" class=\"sk-toggleable__label sk-toggleable__label-arrow\">DecisionTreeClassifier</label><div class=\"sk-toggleable__content\"><pre>DecisionTreeClassifier()</pre></div></div></div></div></div>"
            ],
            "text/plain": [
              "DecisionTreeClassifier()"
            ]
          },
          "execution_count": 12,
          "metadata": {},
          "output_type": "execute_result"
        }
      ],
      "source": [
        "#import da biblioteca\n",
        "from sklearn.tree import DecisionTreeClassifier\n",
        "from sklearn.metrics import accuracy_score\n",
        "\n",
        "decisionTree_clf = DecisionTreeClassifier()\n",
        "\n",
        "#Treino\n",
        "decisionTree_clf.fit(X_train, y_train)"
      ]
    },
    {
      "cell_type": "code",
      "execution_count": null,
      "metadata": {
        "id": "zhd9Fqyy7XyW"
      },
      "outputs": [],
      "source": [
        "decisionTree_predictions = decisionTree_clf.predict(X_test)"
      ]
    },
    {
      "cell_type": "code",
      "execution_count": null,
      "metadata": {
        "colab": {
          "base_uri": "https://localhost:8080/"
        },
        "id": "94Wqy15z7wTs",
        "outputId": "aff563e0-dd59-4a26-80f7-f2349baf760a"
      },
      "outputs": [
        {
          "name": "stdout",
          "output_type": "stream",
          "text": [
            "Predição dos testes:\n",
            "\n",
            "Exemplo: 0\n",
            "L1C1    1\n",
            "L1C2   -1\n",
            "L1C3    0\n",
            "L2C1    1\n",
            "L2C2    0\n",
            "L2C3   -1\n",
            "L3C1   -1\n",
            "L3C2    0\n",
            "L3C3    1\n",
            "Name: 1368, dtype: int64\n",
            "Predição:  -1\n",
            "\n",
            "Exemplo: 1\n",
            "L1C1    1\n",
            "L1C2    1\n",
            "L1C3    1\n",
            "L2C1    0\n",
            "L2C2   -1\n",
            "L2C3    0\n",
            "L3C1   -1\n",
            "L3C2   -1\n",
            "L3C3    1\n",
            "Name: 65, dtype: int64\n",
            "Predição:  1\n",
            "\n",
            "Exemplo: 2\n",
            "L1C1    1\n",
            "L1C2   -1\n",
            "L1C3    0\n",
            "L2C1    1\n",
            "L2C2   -1\n",
            "L2C3    0\n",
            "L3C1    0\n",
            "L3C2   -1\n",
            "L3C3    1\n",
            "Name: 700, dtype: int64\n",
            "Predição:  1\n",
            "\n",
            "Exemplo: 3\n",
            "L1C1    0\n",
            "L1C2    0\n",
            "L1C3   -1\n",
            "L2C1    1\n",
            "L2C2   -1\n",
            "L2C3    0\n",
            "L3C1   -1\n",
            "L3C2    1\n",
            "L3C3    1\n",
            "Name: 938, dtype: int64\n",
            "Predição:  1\n",
            "\n",
            "Exemplo: 4\n",
            "L1C1    1\n",
            "L1C2    0\n",
            "L1C3    1\n",
            "L2C1    0\n",
            "L2C2    0\n",
            "L2C3   -1\n",
            "L3C1    1\n",
            "L3C2    0\n",
            "L3C3   -1\n",
            "Name: 1621, dtype: int64\n",
            "Predição:  1\n"
          ]
        }
      ],
      "source": [
        "#conferindo os 5 primeiros\n",
        "print(\"Predição dos testes:\")\n",
        "for i in range (5):\n",
        "  print (\"\\nExemplo:\", i)\n",
        "  print (X_test.iloc[i])\n",
        "  print(\"Predição: \", decisionTree_predictions[i])"
      ]
    },
    {
      "cell_type": "code",
      "execution_count": null,
      "metadata": {
        "colab": {
          "base_uri": "https://localhost:8080/"
        },
        "id": "-UXoO7nv74oC",
        "outputId": "9c6a68c0-a2f9-4091-c117-9ca27f3bc2e8"
      },
      "outputs": [
        {
          "name": "stdout",
          "output_type": "stream",
          "text": [
            "Acurácia do Decision Tree: 0.88\n"
          ]
        }
      ],
      "source": [
        "# Avaliar a acurácia dos modelos\n",
        "decisionTree_accuracy = accuracy_score(y_test, decisionTree_predictions)\n",
        "print(\"Acurácia do Decision Tree: {:.2f}\".format(decisionTree_accuracy))"
      ]
    },
    {
      "cell_type": "markdown",
      "metadata": {
        "id": "kW5TWi288vuz"
      },
      "source": [
        "# 3º Algoritmo Naive Bayes"
      ]
    },
    {
      "cell_type": "code",
      "execution_count": null,
      "metadata": {
        "colab": {
          "base_uri": "https://localhost:8080/",
          "height": 75
        },
        "id": "7rPZTlWN84lK",
        "outputId": "8490a3fa-0b64-49cb-a9b3-021ae6bde84f"
      },
      "outputs": [
        {
          "data": {
            "text/html": [
              "<style>#sk-container-id-2 {color: black;background-color: white;}#sk-container-id-2 pre{padding: 0;}#sk-container-id-2 div.sk-toggleable {background-color: white;}#sk-container-id-2 label.sk-toggleable__label {cursor: pointer;display: block;width: 100%;margin-bottom: 0;padding: 0.3em;box-sizing: border-box;text-align: center;}#sk-container-id-2 label.sk-toggleable__label-arrow:before {content: \"▸\";float: left;margin-right: 0.25em;color: #696969;}#sk-container-id-2 label.sk-toggleable__label-arrow:hover:before {color: black;}#sk-container-id-2 div.sk-estimator:hover label.sk-toggleable__label-arrow:before {color: black;}#sk-container-id-2 div.sk-toggleable__content {max-height: 0;max-width: 0;overflow: hidden;text-align: left;background-color: #f0f8ff;}#sk-container-id-2 div.sk-toggleable__content pre {margin: 0.2em;color: black;border-radius: 0.25em;background-color: #f0f8ff;}#sk-container-id-2 input.sk-toggleable__control:checked~div.sk-toggleable__content {max-height: 200px;max-width: 100%;overflow: auto;}#sk-container-id-2 input.sk-toggleable__control:checked~label.sk-toggleable__label-arrow:before {content: \"▾\";}#sk-container-id-2 div.sk-estimator input.sk-toggleable__control:checked~label.sk-toggleable__label {background-color: #d4ebff;}#sk-container-id-2 div.sk-label input.sk-toggleable__control:checked~label.sk-toggleable__label {background-color: #d4ebff;}#sk-container-id-2 input.sk-hidden--visually {border: 0;clip: rect(1px 1px 1px 1px);clip: rect(1px, 1px, 1px, 1px);height: 1px;margin: -1px;overflow: hidden;padding: 0;position: absolute;width: 1px;}#sk-container-id-2 div.sk-estimator {font-family: monospace;background-color: #f0f8ff;border: 1px dotted black;border-radius: 0.25em;box-sizing: border-box;margin-bottom: 0.5em;}#sk-container-id-2 div.sk-estimator:hover {background-color: #d4ebff;}#sk-container-id-2 div.sk-parallel-item::after {content: \"\";width: 100%;border-bottom: 1px solid gray;flex-grow: 1;}#sk-container-id-2 div.sk-label:hover label.sk-toggleable__label {background-color: #d4ebff;}#sk-container-id-2 div.sk-serial::before {content: \"\";position: absolute;border-left: 1px solid gray;box-sizing: border-box;top: 0;bottom: 0;left: 50%;z-index: 0;}#sk-container-id-2 div.sk-serial {display: flex;flex-direction: column;align-items: center;background-color: white;padding-right: 0.2em;padding-left: 0.2em;position: relative;}#sk-container-id-2 div.sk-item {position: relative;z-index: 1;}#sk-container-id-2 div.sk-parallel {display: flex;align-items: stretch;justify-content: center;background-color: white;position: relative;}#sk-container-id-2 div.sk-item::before, #sk-container-id-2 div.sk-parallel-item::before {content: \"\";position: absolute;border-left: 1px solid gray;box-sizing: border-box;top: 0;bottom: 0;left: 50%;z-index: -1;}#sk-container-id-2 div.sk-parallel-item {display: flex;flex-direction: column;z-index: 1;position: relative;background-color: white;}#sk-container-id-2 div.sk-parallel-item:first-child::after {align-self: flex-end;width: 50%;}#sk-container-id-2 div.sk-parallel-item:last-child::after {align-self: flex-start;width: 50%;}#sk-container-id-2 div.sk-parallel-item:only-child::after {width: 0;}#sk-container-id-2 div.sk-dashed-wrapped {border: 1px dashed gray;margin: 0 0.4em 0.5em 0.4em;box-sizing: border-box;padding-bottom: 0.4em;background-color: white;}#sk-container-id-2 div.sk-label label {font-family: monospace;font-weight: bold;display: inline-block;line-height: 1.2em;}#sk-container-id-2 div.sk-label-container {text-align: center;}#sk-container-id-2 div.sk-container {/* jupyter's `normalize.less` sets `[hidden] { display: none; }` but bootstrap.min.css set `[hidden] { display: none !important; }` so we also need the `!important` here to be able to override the default hidden behavior on the sphinx rendered scikit-learn.org. See: https://github.com/scikit-learn/scikit-learn/issues/21755 */display: inline-block !important;position: relative;}#sk-container-id-2 div.sk-text-repr-fallback {display: none;}</style><div id=\"sk-container-id-2\" class=\"sk-top-container\"><div class=\"sk-text-repr-fallback\"><pre>GaussianNB()</pre><b>In a Jupyter environment, please rerun this cell to show the HTML representation or trust the notebook. <br />On GitHub, the HTML representation is unable to render, please try loading this page with nbviewer.org.</b></div><div class=\"sk-container\" hidden><div class=\"sk-item\"><div class=\"sk-estimator sk-toggleable\"><input class=\"sk-toggleable__control sk-hidden--visually\" id=\"sk-estimator-id-2\" type=\"checkbox\" checked><label for=\"sk-estimator-id-2\" class=\"sk-toggleable__label sk-toggleable__label-arrow\">GaussianNB</label><div class=\"sk-toggleable__content\"><pre>GaussianNB()</pre></div></div></div></div></div>"
            ],
            "text/plain": [
              "GaussianNB()"
            ]
          },
          "execution_count": 17,
          "metadata": {},
          "output_type": "execute_result"
        }
      ],
      "source": [
        "#import da biblioteca\n",
        "from sklearn.naive_bayes import GaussianNB\n",
        "from sklearn.metrics import accuracy_score\n",
        "\n",
        "bayes_clf = GaussianNB()\n",
        "\n",
        "#Treino\n",
        "bayes_clf.fit(X_train, y_train)"
      ]
    },
    {
      "cell_type": "code",
      "execution_count": null,
      "metadata": {
        "id": "zrQELHlH87q1"
      },
      "outputs": [],
      "source": [
        "# Fazer previsões nos dados de teste\n",
        "bayes_predictions = bayes_clf.predict(X_test)"
      ]
    },
    {
      "cell_type": "code",
      "execution_count": null,
      "metadata": {
        "colab": {
          "base_uri": "https://localhost:8080/"
        },
        "id": "zVUfYNzm9MEy",
        "outputId": "250738f6-3baa-4297-ae19-7289701b5311"
      },
      "outputs": [
        {
          "name": "stdout",
          "output_type": "stream",
          "text": [
            "Predição dos testes:\n",
            "\n",
            "Exemplo: 0\n",
            "L1C1    1\n",
            "L1C2   -1\n",
            "L1C3    0\n",
            "L2C1    1\n",
            "L2C2    0\n",
            "L2C3   -1\n",
            "L3C1   -1\n",
            "L3C2    0\n",
            "L3C3    1\n",
            "Name: 1368, dtype: int64\n",
            "Predição:  1\n",
            "\n",
            "Exemplo: 1\n",
            "L1C1    1\n",
            "L1C2    1\n",
            "L1C3    1\n",
            "L2C1    0\n",
            "L2C2   -1\n",
            "L2C3    0\n",
            "L3C1   -1\n",
            "L3C2   -1\n",
            "L3C3    1\n",
            "Name: 65, dtype: int64\n",
            "Predição:  1\n",
            "\n",
            "Exemplo: 2\n",
            "L1C1    1\n",
            "L1C2   -1\n",
            "L1C3    0\n",
            "L2C1    1\n",
            "L2C2   -1\n",
            "L2C3    0\n",
            "L3C1    0\n",
            "L3C2   -1\n",
            "L3C3    1\n",
            "Name: 700, dtype: int64\n",
            "Predição:  1\n",
            "\n",
            "Exemplo: 3\n",
            "L1C1    0\n",
            "L1C2    0\n",
            "L1C3   -1\n",
            "L2C1    1\n",
            "L2C2   -1\n",
            "L2C3    0\n",
            "L3C1   -1\n",
            "L3C2    1\n",
            "L3C3    1\n",
            "Name: 938, dtype: int64\n",
            "Predição:  1\n",
            "\n",
            "Exemplo: 4\n",
            "L1C1    1\n",
            "L1C2    0\n",
            "L1C3    1\n",
            "L2C1    0\n",
            "L2C2    0\n",
            "L2C3   -1\n",
            "L3C1    1\n",
            "L3C2    0\n",
            "L3C3   -1\n",
            "Name: 1621, dtype: int64\n",
            "Predição:  -1\n"
          ]
        }
      ],
      "source": [
        "#conferindo os 5 primeiros\n",
        "print(\"Predição dos testes:\")\n",
        "for i in range (5):\n",
        "  print (\"\\nExemplo:\", i)\n",
        "  print (X_test.iloc[i])\n",
        "  print(\"Predição: \", bayes_predictions[i])"
      ]
    },
    {
      "cell_type": "code",
      "execution_count": null,
      "metadata": {
        "colab": {
          "base_uri": "https://localhost:8080/"
        },
        "id": "NN7IpMZZ9cRO",
        "outputId": "ecab7d7b-c7ab-4532-cdf0-6b3b3d575c35"
      },
      "outputs": [
        {
          "name": "stdout",
          "output_type": "stream",
          "text": [
            "Acurácia do Naive Bayes: 0.84\n"
          ]
        }
      ],
      "source": [
        "# Avaliar a acurácia dos modelos\n",
        "bayes_accuracy = accuracy_score(y_test, bayes_predictions)\n",
        "print(\"Acurácia do Naive Bayes: {:.2f}\".format(bayes_accuracy))"
      ]
    },
    {
      "cell_type": "markdown",
      "metadata": {
        "id": "AUIOvGa7J8Mz"
      },
      "source": [
        "# Jogo\n",
        "\n",
        "Na chamada da função principal, comentar deixando apenas o algoritmo que irá testar.\n"
      ]
    },
    {
      "cell_type": "code",
      "execution_count": null,
      "metadata": {
        "colab": {
          "background_save": true,
          "base_uri": "https://localhost:8080/"
        },
        "id": "grTm3q3hARsu",
        "outputId": "b10d040f-6d4c-4a71-9c8a-87e2eaaaf5b9"
      },
      "outputs": [
        {
          "name": "stdout",
          "output_type": "stream",
          "text": [
            " Jogo Tic Tac Toe com ML\n",
            "\n",
            "DecisionTreeClassifier\n",
            "  |   |  \n",
            "_________\n",
            "  |   |  \n",
            "_________\n",
            "  |   |  \n",
            "\n",
            "\n"
          ]
        },
        {
          "name": "stderr",
          "output_type": "stream",
          "text": [
            "/usr/local/lib/python3.10/dist-packages/sklearn/base.py:439: UserWarning: X does not have valid feature names, but DecisionTreeClassifier was fitted with feature names\n",
            "  warnings.warn(\n"
          ]
        },
        {
          "name": "stdout",
          "output_type": "stream",
          "text": [
            "x |   |  \n",
            "_________\n",
            "  |   |  \n",
            "_________\n",
            "  |   |  \n",
            "Faz predição com:  DecisionTreeClassifier\n",
            "Dados de entrada:  [[1 0 0 0 0 0 0 0 0]]\n",
            "Predição feita pelo DecisionTreeClassifier: [-1]\n",
            "\n",
            "\n",
            "-1 - Ainda há jogo!\n",
            " 0 - Empate\n",
            " 1 - Alguém ganhou\n",
            "Verificação para acurácia: \n",
            "Ainda há jogo!\n",
            "Acurácia do DecisionTreeClassifier : 1.00\n",
            "\n",
            "\n",
            "x |   |  \n",
            "_________\n",
            "  |   |  \n",
            "_________\n",
            "  |   |  \n",
            "\n",
            "\n"
          ]
        },
        {
          "name": "stderr",
          "output_type": "stream",
          "text": [
            "/usr/local/lib/python3.10/dist-packages/sklearn/base.py:439: UserWarning: X does not have valid feature names, but DecisionTreeClassifier was fitted with feature names\n",
            "  warnings.warn(\n"
          ]
        },
        {
          "name": "stdout",
          "output_type": "stream",
          "text": [
            "x |   |  \n",
            "_________\n",
            "  | o |  \n",
            "_________\n",
            "  |   |  \n",
            "Faz predição com:  DecisionTreeClassifier\n",
            "Dados de entrada:  [[ 1  0  0  0 -1  0  0  0  0]]\n",
            "Predição feita pelo DecisionTreeClassifier: [-1]\n",
            "\n",
            "\n",
            "-1 - Ainda há jogo!\n",
            " 0 - Empate\n",
            " 1 - Alguém ganhou\n",
            "Verificação para acurácia: \n",
            "Ainda há jogo!\n",
            "Acurácia do DecisionTreeClassifier : 1.00\n",
            "\n",
            "\n",
            "x |   |  \n",
            "_________\n",
            "  | o |  \n",
            "_________\n",
            "  |   |  \n",
            "\n",
            "\n"
          ]
        },
        {
          "name": "stderr",
          "output_type": "stream",
          "text": [
            "/usr/local/lib/python3.10/dist-packages/sklearn/base.py:439: UserWarning: X does not have valid feature names, but DecisionTreeClassifier was fitted with feature names\n",
            "  warnings.warn(\n"
          ]
        },
        {
          "name": "stdout",
          "output_type": "stream",
          "text": [
            "x |   |  \n",
            "_________\n",
            "  | o |  \n",
            "_________\n",
            "  |   | x\n",
            "Faz predição com:  DecisionTreeClassifier\n",
            "Dados de entrada:  [[ 1  0  0  0 -1  0  0  0  1]]\n",
            "Predição feita pelo DecisionTreeClassifier: [-1]\n",
            "\n",
            "\n",
            "-1 - Ainda há jogo!\n",
            " 0 - Empate\n",
            " 1 - Alguém ganhou\n",
            "Verificação para acurácia: \n",
            "Ainda há jogo!\n",
            "Acurácia do DecisionTreeClassifier : 1.00\n",
            "\n",
            "\n",
            "x |   |  \n",
            "_________\n",
            "  | o |  \n",
            "_________\n",
            "  |   | x\n",
            "\n",
            "\n"
          ]
        },
        {
          "name": "stderr",
          "output_type": "stream",
          "text": [
            "/usr/local/lib/python3.10/dist-packages/sklearn/base.py:439: UserWarning: X does not have valid feature names, but DecisionTreeClassifier was fitted with feature names\n",
            "  warnings.warn(\n"
          ]
        },
        {
          "name": "stdout",
          "output_type": "stream",
          "text": [
            "x |   | o\n",
            "_________\n",
            "  | o |  \n",
            "_________\n",
            "  |   | x\n",
            "Faz predição com:  DecisionTreeClassifier\n",
            "Dados de entrada:  [[ 1  0 -1  0 -1  0  0  0  1]]\n",
            "Predição feita pelo DecisionTreeClassifier: [1]\n",
            "\n",
            "\n",
            "-1 - Ainda há jogo!\n",
            " 0 - Empate\n",
            " 1 - Alguém ganhou\n",
            "Verificação para acurácia: \n",
            "Alguém ganhou\n",
            "Acurácia do DecisionTreeClassifier : 1.00\n",
            "\n",
            "\n"
          ]
        }
      ],
      "source": [
        "#jogo geral\n",
        "import numpy as np\n",
        "#cria tabuleiro\n",
        "def cria_tabuleiro():\n",
        "    return [[' ' for _ in range(3)] for _ in range(3)]\n",
        "\n",
        "# Função para imprimir o tabuleiro\n",
        "def imprimir_tabuleiro(tabuleiro):\n",
        "    for i, row in enumerate(tabuleiro):\n",
        "        print(' | '.join(row))\n",
        "        if i < len(tabuleiro) - 1:\n",
        "          print('_' * 9)\n",
        "\n",
        "def realizar_jogada(tabuleiro, jogador):\n",
        "  while True:\n",
        "    try:\n",
        "      linha = int(input('Digite a linha (0, 1 ou 2) para o jogador {}: '.format(jogador)))\n",
        "      coluna = int(input('Digite a coluna (0, 1 ou 2) para o jogador {}: '.format(jogador)))\n",
        "      if (0 <= linha <= 2 and 0 <= coluna <= 2):\n",
        "        if (tabuleiro[linha][coluna] == ' '):\n",
        "          tabuleiro[linha][coluna] = jogador\n",
        "          break\n",
        "        else:\n",
        "          print('Escolha outra posição.')\n",
        "      else:\n",
        "       print('Por favor, digite somente 0, 1 ou 2')\n",
        "    except ValueError:\n",
        "      print('Valor inválido')\n",
        "\n",
        "\n",
        "def fazer_predicao(tabuleiro, modelo):\n",
        "  #exibir predição + acurária\n",
        "  print(\"Faz predição com: \", modelo.__class__.__name__)\n",
        "  #converte matriz em formato de lista\n",
        "  entrada = [cell for row in tabuleiro for cell in row]\n",
        "  #transforma os símbolos em números\n",
        "  # sendo 'x', 'o', 'b' =  1, -1, 0 e empate, ganhou e jogando em 0, 1, -1\n",
        "  entrada = np.array(tabuleiro).flatten()\n",
        "  entrada = np.where(entrada == 'x', 1, np.where(entrada == 'o', -1, 0))\n",
        "  entrada = entrada.reshape(1, -1)\n",
        "  print(\"Dados de entrada: \", entrada)\n",
        "  #faz predicao\n",
        "  predicao = modelo.predict(entrada)\n",
        "  print('Predição feita pelo ' + modelo.__class__.__name__ + ':', predicao)\n",
        "  return predicao[0]\n",
        "\n",
        "# Função principal para o jogo\n",
        "def jogar_jogo(modelo):\n",
        "    print(' Jogo Tic Tac Toe com ML\\n')\n",
        "    print(modelo.__class__.__name__)\n",
        "    tabuleiro = cria_tabuleiro()\n",
        "    #sempre começa com o jogador x\n",
        "    jogador = 'x'\n",
        "    rodadas = 0\n",
        "    fim = False\n",
        "    listPredicao = []\n",
        "    listResultEsperado = []\n",
        "\n",
        "    #loop para exibir tabuleiro atualizaod, realizar jogadas e verificar predição com o algoritmo\n",
        "    while True:\n",
        "      imprimir_tabuleiro(tabuleiro)\n",
        "      print(\"\\n\")\n",
        "      realizar_jogada(tabuleiro, jogador)\n",
        "      imprimir_tabuleiro(tabuleiro)\n",
        "      predicao = fazer_predicao(tabuleiro, modelo)\n",
        "\n",
        "      #resposta desejada\n",
        "      print('\\n')\n",
        "      print('-1 - Ainda há jogo!')\n",
        "      print(' 0 - Empate')\n",
        "      print(' 1 - Alguém ganhou')\n",
        "\n",
        "      print('Verificação para acurácia: ')\n",
        "      while True:\n",
        "        try:\n",
        "            result = int(input('Resposta esperada: '))\n",
        "            if result in [-1, 0, 1]:\n",
        "                break\n",
        "            else:\n",
        "                print('Por favor, digite somente -1, 0 ou 1 como resposta esperada.')\n",
        "        except ValueError:\n",
        "            print('Entrada inválida. Por favor, digite -1, 0 ou 1.')\n",
        "\n",
        "      listResultEsperado.append(int(result))\n",
        "      listPredicao.append(predicao)\n",
        "\n",
        "      arrayAccuracy = np.array(listResultEsperado)\n",
        "      arrayPredicao = np.array(listPredicao)\n",
        "\n",
        "\n",
        "      if (predicao == 1):\n",
        "        print('Alguém ganhou')\n",
        "        fim = True\n",
        "      elif (predicao == -1):\n",
        "        print ('Ainda há jogo!')\n",
        "      elif (predicao == 0):\n",
        "        print ('Empate')\n",
        "        fim = True\n",
        "\n",
        "\n",
        "      decisionTree_accuracy = accuracy_score(arrayAccuracy, arrayPredicao)\n",
        "      print('Acurácia do '+ modelo.__class__.__name__ + ' : {:.2f}'.format(decisionTree_accuracy))\n",
        "      print('\\n')\n",
        "\n",
        "      #continuar jogo?\n",
        "      if (fim == True):\n",
        "        resposta = input('Continuar jogo?(s/n): ')\n",
        "        if (resposta.lower() != 's'):\n",
        "          print('FIM!')\n",
        "          break\n",
        "\n",
        "      #muda jogador\n",
        "      if (jogador == 'x'):\n",
        "        jogador = 'o'\n",
        "      else:\n",
        "        jogador = 'x'\n",
        "\n",
        "\n",
        "#chama função principal\n",
        "\n",
        "#jogar_jogo(knn_clf)\n",
        "jogar_jogo(decisionTree_clf)\n",
        "#jogar_jogo(bayes_clf)\n",
        "\n"
      ]
    },
    {
      "cell_type": "code",
      "execution_count": null,
      "metadata": {
        "id": "3VE-_pzsJzj4"
      },
      "outputs": [],
      "source": []
    }
  ],
  "metadata": {
    "colab": {
      "toc_visible": true,
      "provenance": []
    },
    "kernelspec": {
      "display_name": "Python 3",
      "name": "python3"
    },
    "language_info": {
      "name": "python"
    }
  },
  "nbformat": 4,
  "nbformat_minor": 0
}